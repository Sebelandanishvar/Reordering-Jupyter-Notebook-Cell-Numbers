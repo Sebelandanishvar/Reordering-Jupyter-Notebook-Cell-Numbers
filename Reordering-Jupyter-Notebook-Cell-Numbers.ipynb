{
 "cells": [
  {
   "cell_type": "code",
   "execution_count": 1,
   "id": "80e0a9f6",
   "metadata": {},
   "outputs": [],
   "source": [
    "input_file = 'input.ipynb'\n",
    "output_file = 'output.ipynb'"
   ]
  },
  {
   "cell_type": "code",
   "execution_count": 2,
   "id": "96289a94",
   "metadata": {},
   "outputs": [],
   "source": [
    "with open(input_file) as f:\n",
    "    lines = f.read().splitlines()"
   ]
  },
  {
   "cell_type": "code",
   "execution_count": 3,
   "id": "bed8ccc4",
   "metadata": {},
   "outputs": [],
   "source": [
    "new_lines = []\n",
    "num = 1\n",
    "line_before = lines[0]\n",
    "for k in range(len(lines)):\n",
    "    updated_line = lines[k]\n",
    "    if \"execution_count\" in lines[k]:\n",
    "        if '\"cell_type\": \"code\"' in line_before:\n",
    "                updated_line = lines[k][:lines[k].find(\"execution_count\")+18] + str(num)+','\n",
    "                num +=1\n",
    "        else:\n",
    "            updated_line = lines[k][:lines[k].find(\"execution_count\")+18] + str(num-1)+','\n",
    "            \n",
    "    line_before = lines[k]\n",
    "    new_lines.append(updated_line)\n",
    "    "
   ]
  },
  {
   "cell_type": "code",
   "execution_count": 4,
   "id": "167ec38b",
   "metadata": {},
   "outputs": [],
   "source": [
    "with open(output_file, \"w\") as f:\n",
    "    for line in new_lines:\n",
    "        f.write(line + \"\\n\")\n"
   ]
  }
 ],
 "metadata": {
  "kernelspec": {
   "display_name": "Python 3",
   "language": "python",
   "name": "python3"
  },
  "language_info": {
   "codemirror_mode": {
    "name": "ipython",
    "version": 3
   },
   "file_extension": ".py",
   "mimetype": "text/x-python",
   "name": "python",
   "nbconvert_exporter": "python",
   "pygments_lexer": "ipython3",
   "version": "3.8.5"
  }
 },
 "nbformat": 4,
 "nbformat_minor": 5
}
